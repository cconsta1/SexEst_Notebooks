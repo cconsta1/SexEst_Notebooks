{
 "cells": [
  {
   "cell_type": "markdown",
   "metadata": {},
   "source": [
    "# Import necessary libraries"
   ]
  },
  {
   "cell_type": "code",
   "execution_count": null,
   "metadata": {},
   "outputs": [],
   "source": [
    "#importing all the necessary libraries\n",
    "\n",
    "# system\n",
    "\n",
    "import os\n",
    "\n",
    "# data analysis and plotting\n",
    "\n",
    "import pandas as pd\n",
    "import numpy as np\n",
    "from scipy.stats import zscore\n",
    "from scipy.stats import shapiro\n",
    "from random import randint\n",
    "import matplotlib.pyplot as plt \n",
    "import seaborn as sns\n",
    "from xgboost import plot_importance\n",
    "from sklearn.pipeline import make_pipeline\n",
    "from sklearn.pipeline import Pipeline\n",
    "from sklearn.preprocessing import StandardScaler\n",
    "from sklearn.decomposition import PCA, KernelPCA\n",
    "from sklearn.utils import shuffle\n",
    "\n",
    "# data processing and model validation\n",
    "\n",
    "from sklearn import preprocessing\n",
    "from sklearn.model_selection import train_test_split\n",
    "from sklearn.metrics import r2_score, explained_variance_score, confusion_matrix, accuracy_score, classification_report, log_loss\n",
    "from math import sqrt\n",
    "from sklearn.model_selection import cross_val_score\n",
    "from sklearn.model_selection import RepeatedStratifiedKFold\n",
    "\n",
    "\n",
    "# classification libraries\n",
    "\n",
    "from sklearn.linear_model import LogisticRegression\n",
    "from sklearn.tree import DecisionTreeClassifier\n",
    "from sklearn.svm import SVC\n",
    "from sklearn.neural_network import MLPClassifier\n",
    "from sklearn.gaussian_process import GaussianProcessClassifier\n",
    "from sklearn.ensemble import GradientBoostingClassifier\n",
    "from sklearn.gaussian_process.kernels import RBF, DotProduct, WhiteKernel, Matern, RationalQuadratic\n",
    "from sklearn.ensemble import RandomForestClassifier, AdaBoostClassifier\n",
    "from sklearn.linear_model import SGDClassifier\n",
    "from sklearn.ensemble import ExtraTreesRegressor\n",
    "from sklearn.ensemble import ExtraTreesClassifier\n",
    "from sklearn.naive_bayes import GaussianNB\n",
    "from sklearn.neighbors import KNeighborsClassifier\n",
    "from sklearn.discriminant_analysis import LinearDiscriminantAnalysis\n",
    "from sklearn.discriminant_analysis import QuadraticDiscriminantAnalysis\n",
    "\n",
    "from xgboost import XGBClassifier\n",
    "import lightgbm as lgb\n",
    "\n",
    "\n",
    "# Importing imputation libs. \n",
    "\n",
    "from sklearn.experimental import enable_iterative_imputer\n",
    "from sklearn.impute import IterativeImputer\n",
    "from sklearn.impute import KNNImputer\n",
    "\n",
    "# Hyperparameter optimization\n",
    "\n",
    "from sklearn.model_selection import GridSearchCV, RandomizedSearchCV\n",
    "from skopt import BayesSearchCV\n",
    "\n",
    "# web stuff\n",
    "import pickle\n",
    "\n",
    "# Various parameter settings\n",
    "\n",
    "%matplotlib inline\n",
    "\n",
    "# To install sklearn type \"pip install numpy scipy scikit-learn\" to the anaconda terminal\n",
    "\n",
    "# To change scientific numbers to float\n",
    "np.set_printoptions(formatter={'float_kind':'{:f}'.format})\n",
    "\n",
    "# Increases the size of sns plots\n",
    "sns.set(rc={'figure.figsize':(12,10)})\n",
    "\n",
    "# import sys\n",
    "# !conda list Check the packages installed\n",
    "\n",
    "# Displaying all the rows/columns in a data set (the default option is not to show them)\n",
    "\n",
    "pd.set_option('display.max_columns', None)\n",
    "pd.set_option('display.max_rows', None)"
   ]
  },
  {
   "cell_type": "markdown",
   "metadata": {},
   "source": [
    "# Import the data and create the datasets needed in the analysis"
   ]
  },
  {
   "cell_type": "code",
   "execution_count": null,
   "metadata": {},
   "outputs": [],
   "source": [
    "# Importing the raw data\n",
    "\n",
    "raw_data_goldman = pd.read_csv(\"datasets/Goldman.csv\", header = 0, encoding= 'unicode_escape')"
   ]
  },
  {
   "cell_type": "code",
   "execution_count": null,
   "metadata": {},
   "outputs": [],
   "source": [
    "raw_data_goldman.describe()"
   ]
  },
  {
   "cell_type": "code",
   "execution_count": null,
   "metadata": {},
   "outputs": [],
   "source": [
    "# Define a new data set that contains all the measured data, i.e.,\n",
    "# not derived data as well as the class label Sex for each measurement\n",
    "\n",
    "measured_data_goldman = raw_data_goldman.loc[:,\"LHML\":\"RAcH\"]\n",
    "\n",
    "# Fill missing data with zeroes so that we can average between left and right skeletal measurements below\n",
    "\n",
    "measured_data_goldman = measured_data_goldman.fillna(0)\n"
   ]
  },
  {
   "cell_type": "code",
   "execution_count": null,
   "metadata": {},
   "outputs": [],
   "source": [
    "# Create new columns and take the average between left and right skeletal measurements\n",
    "\n",
    "target_cols = ['HML', 'HHD', 'RML', 'FML', 'FBL','FHD', 'TML']\n",
    "\n",
    "\n",
    "for col in target_cols:\n",
    "    measured_data_goldman[col] = 0.\n",
    "    \n",
    "    min_left_col_value = measured_data_goldman[\"\".join([\"L\",col])][measured_data_goldman[\"\".join([\"L\",col])] > 0.1].min() - 1\n",
    "    \n",
    "    min_right_col_value = measured_data_goldman[\"\".join([\"R\",col])][measured_data_goldman[\"\".join([\"R\",col])] > 0.1].min() - 1\n",
    "    \n",
    "    measured_data_goldman.loc[(measured_data_goldman[\"\".join([\"L\",col])] < 0.1) & (measured_data_goldman[\"\".join([\"R\",col])] > min_right_col_value), \n",
    "        col] = measured_data_goldman[\"\".join([\"R\",col])]\n",
    "\n",
    "    measured_data_goldman.loc[(measured_data_goldman[\"\".join([\"R\",col])] < 0.1) & (measured_data_goldman[\"\".join([\"L\",col])] > min_left_col_value), \n",
    "       col] = measured_data_goldman[\"\".join([\"L\",col])]\n",
    "\n",
    "    measured_data_goldman.loc[(measured_data_goldman[\"\".join([\"R\",col])] > min_right_col_value) & (measured_data_goldman[\"\".join([\"L\",col])] > min_left_col_value), \n",
    "       col] = (measured_data_goldman[\"\".join([\"L\",col])] + measured_data_goldman[\"\".join([\"R\",col])])/2\n",
    "    \n",
    "    \n",
    "    \n",
    "# Create a dataset with the features we will use to build our models\n",
    "\n",
    "model_cols = ['BIB','HML', 'HHD', 'RML', 'FML', 'FBL','FHD', 'TML']\n",
    "\n",
    "model_data_goldman = measured_data_goldman.drop(columns=[col for col in measured_data_goldman if col not in model_cols])\n",
    "\n",
    "# Add the Sex column\n",
    "\n",
    "model_data_goldman = pd.concat([model_data_goldman.loc[:,:],raw_data_goldman.loc[:,\"Sex\"]],axis=1)\n",
    "\n",
    "print(model_data_goldman.describe())"
   ]
  },
  {
   "cell_type": "code",
   "execution_count": null,
   "metadata": {},
   "outputs": [],
   "source": [
    "# Note that the Sex column is a string, not a value, that's why\n",
    "# its not printed above. \n",
    "\n",
    "# But we take advandage of the fact that its a string to \n",
    "# drop the values 1? and 0?\n",
    "\n",
    "# Get rid of 1? and 0? from sex estimation and then shuffle the dataset\n",
    "# because otherwise you have 1 and 0 packed together \n",
    "\n",
    "model_data_goldman = pd.concat([model_data_goldman.loc[model_data_goldman['Sex']=='1'], model_data_goldman.loc[model_data_goldman['Sex']=='0']])\n",
    "\n",
    "model_data_goldman = model_data_goldman.sample(frac=1).reset_index(drop=True)\n",
    "\n",
    "# Now convert Sex from string to int\n",
    "\n",
    "model_data_goldman[\"Sex\"] = model_data_goldman[\"Sex\"].astype(int) \n",
    "\n",
    "model_data_goldman.describe()"
   ]
  },
  {
   "cell_type": "code",
   "execution_count": null,
   "metadata": {},
   "outputs": [],
   "source": [
    "# replace 0.0 back to nan to better handle the dataset within xgboost but\n",
    "# also to become able to drop the NA entries easily\n",
    "\n",
    "model_data_goldman[model_cols] = model_data_goldman[model_cols].replace(0.0, np.nan)"
   ]
  },
  {
   "cell_type": "code",
   "execution_count": null,
   "metadata": {},
   "outputs": [],
   "source": [
    "model_data_goldman.describe()"
   ]
  },
  {
   "cell_type": "code",
   "execution_count": null,
   "metadata": {},
   "outputs": [],
   "source": [
    "no_zeroes_model_data_goldman = model_data_goldman.dropna()"
   ]
  },
  {
   "cell_type": "code",
   "execution_count": null,
   "metadata": {},
   "outputs": [],
   "source": [
    "no_zeroes_model_data_goldman.describe()"
   ]
  },
  {
   "cell_type": "code",
   "execution_count": null,
   "metadata": {},
   "outputs": [],
   "source": [
    "# Create a new data set using the knn imputer\n",
    "# Here we use the 3 nearest neighbors to calculate the missing data\n",
    "\n",
    "knn_imputer = KNNImputer(n_neighbors=3, missing_values=0.0)\n",
    "\n",
    "sex_column = model_data_goldman['Sex']\n",
    "\n",
    "temporary_data_set = model_data_goldman.fillna(0.).drop([\"Sex\"],axis=1)\n",
    "\n",
    "cols = temporary_data_set.columns\n",
    "\n",
    "temporary_data_set = knn_imputer.fit_transform(temporary_data_set)\n",
    "\n",
    "temporary_data_set = pd.DataFrame(data=temporary_data_set, columns=cols)\n",
    "\n",
    "knn_imputed_data_goldman = pd.concat([temporary_data_set,sex_column],axis=1)"
   ]
  },
  {
   "cell_type": "code",
   "execution_count": null,
   "metadata": {},
   "outputs": [],
   "source": [
    "knn_imputed_data_goldman.describe()"
   ]
  },
  {
   "cell_type": "code",
   "execution_count": null,
   "metadata": {},
   "outputs": [],
   "source": [
    "# Create a new data set using the iterative imputer\n",
    "\n",
    "iter_imputer = IterativeImputer(max_iter = 1000, missing_values=0.0)\n",
    "\n",
    "sex_column = model_data_goldman['Sex']\n",
    "\n",
    "temporary_data_set = model_data_goldman.fillna(0.).drop([\"Sex\"],axis=1)\n",
    "\n",
    "cols = temporary_data_set.columns\n",
    "\n",
    "temporary_data_set = iter_imputer.fit_transform(temporary_data_set)\n",
    "\n",
    "temporary_data_set = pd.DataFrame(data=temporary_data_set, columns=cols)\n",
    "\n",
    "iter_imputed_data_goldman = pd.concat([temporary_data_set,sex_column],axis=1)\n"
   ]
  },
  {
   "cell_type": "code",
   "execution_count": null,
   "metadata": {},
   "outputs": [],
   "source": [
    "iter_imputed_data_goldman.describe()"
   ]
  },
  {
   "cell_type": "markdown",
   "metadata": {},
   "source": [
    "# Test sets"
   ]
  },
  {
   "cell_type": "code",
   "execution_count": null,
   "metadata": {},
   "outputs": [],
   "source": [
    "# Sample the data\n",
    "\n",
    "no_zeroes_model_data_goldman = no_zeroes_model_data_goldman.sample(frac=1).reset_index(drop=True)\n",
    "\n",
    "knn_imputed_data_goldman = knn_imputed_data_goldman.sample(frac=1).reset_index(drop=True)\n",
    "\n",
    "iter_imputed_data_goldman = iter_imputed_data_goldman.sample(frac=1).reset_index(drop=True)"
   ]
  },
  {
   "cell_type": "code",
   "execution_count": null,
   "metadata": {},
   "outputs": [],
   "source": [
    "dataset_list = [\n",
    "    no_zeroes_model_data_goldman, \n",
    "    knn_imputed_data_goldman, \n",
    "    iter_imputed_data_goldman\n",
    "]"
   ]
  },
  {
   "cell_type": "markdown",
   "metadata": {},
   "source": [
    "# Classification without optimization"
   ]
  },
  {
   "cell_type": "code",
   "execution_count": null,
   "metadata": {},
   "outputs": [],
   "source": [
    "classifier_names = [\n",
    "    \"Logistic Regression\", \n",
    "    \"Decision Tree Classifier\", \n",
    "    \"Support Vector Machines\", \n",
    "    \"Gaussian Process Classifier\", \n",
    "    \"Gradient Boosting Classifier\", \n",
    "    \"Random Forest Classifier\",\n",
    "    \"Ada Boost Classifier\", \n",
    "    \"Extra Trees Classifier\", \n",
    "    \"Gaussian Naive Bayes\", \n",
    "    \"KNNeighbors Classifier\",\n",
    "    \"Linear Discriminant Analysis\", \n",
    "    \"Quadratic Discriminant Analysis\", \n",
    "    \"XGBClassifier\", \n",
    "    \"Light Gradient Boosting Classifier\"\n",
    "]\n",
    "\n",
    "\n",
    "classifiers = [\n",
    "    LogisticRegression(),\n",
    "    DecisionTreeClassifier(),\n",
    "    SVC(),\n",
    "    GaussianProcessClassifier(1.0 * RBF(1.0)),\n",
    "    GradientBoostingClassifier(),\n",
    "    RandomForestClassifier(),\n",
    "    AdaBoostClassifier(),\n",
    "    ExtraTreesClassifier(),\n",
    "    GaussianNB(),\n",
    "    KNeighborsClassifier(),\n",
    "    LinearDiscriminantAnalysis(),\n",
    "    QuadraticDiscriminantAnalysis(),\n",
    "    XGBClassifier(),\n",
    "    lgb.LGBMClassifier()\n",
    "]"
   ]
  },
  {
   "cell_type": "code",
   "execution_count": null,
   "metadata": {},
   "outputs": [],
   "source": [
    "dataset_scores_list = []\n",
    "\n",
    "for dataset in dataset_list:\n",
    "    scores = []\n",
    "    \n",
    "    X = dataset.drop('Sex', axis = 1).values\n",
    "    y = dataset['Sex']\n",
    "    \n",
    "    X_train, X_test, y_train, y_test = train_test_split(X, y, train_size = 0.7, test_size=0.3, stratify=y)\n",
    "    \n",
    "    for name, clf in zip(classifier_names, classifiers):\n",
    "        run_score = []\n",
    "        \n",
    "        for i in range(20):\n",
    "            clf.fit(X_train, y_train)\n",
    "            score = clf.score(X_test, y_test)*100\n",
    "            run_score.append(score)\n",
    "            \n",
    "            avg_score = np.mean(run_score)\n",
    "                      \n",
    "        #print(run_score)    \n",
    "        scores.append(avg_score)\n",
    "                  \n",
    "    dataset_scores_list.append(scores)\n",
    "       "
   ]
  },
  {
   "cell_type": "code",
   "execution_count": null,
   "metadata": {},
   "outputs": [],
   "source": [
    "dataset_scores_list"
   ]
  },
  {
   "cell_type": "code",
   "execution_count": null,
   "metadata": {},
   "outputs": [],
   "source": [
    "results = pd.DataFrame(index=classifier_names)\n",
    "# results['name'] = names\n",
    "results['goldman_1'] = dataset_scores_list[0]\n",
    "results['goldman_2'] = dataset_scores_list[1]\n",
    "results['goldman_3'] = dataset_scores_list[2]"
   ]
  },
  {
   "cell_type": "code",
   "execution_count": null,
   "metadata": {},
   "outputs": [],
   "source": [
    "results"
   ]
  },
  {
   "cell_type": "code",
   "execution_count": null,
   "metadata": {},
   "outputs": [],
   "source": [
    "# print(results.to_latex(float_format=\"%.2f\"))"
   ]
  },
  {
   "cell_type": "markdown",
   "metadata": {},
   "source": [
    "# Hyperparameter optimization"
   ]
  },
  {
   "cell_type": "code",
   "execution_count": null,
   "metadata": {},
   "outputs": [],
   "source": [
    "X = iter_imputed_data_goldman.drop('Sex', axis = 1).values\n",
    "y = iter_imputed_data_goldman['Sex']"
   ]
  },
  {
   "cell_type": "code",
   "execution_count": null,
   "metadata": {},
   "outputs": [],
   "source": [
    "X_train, X_test, y_train, y_test = train_test_split(X, y, train_size = 0.7, test_size=0.3, stratify=y)"
   ]
  },
  {
   "cell_type": "code",
   "execution_count": null,
   "metadata": {},
   "outputs": [],
   "source": [
    "# Logistic regression model\n",
    "\n",
    "model = LogisticRegression()\n",
    "\n",
    "model.fit(X_train, y_train)\n",
    "\n",
    "model.score(X_test, y_test)"
   ]
  },
  {
   "cell_type": "code",
   "execution_count": null,
   "metadata": {},
   "outputs": [],
   "source": [
    "# Optimizing the logistic regression model\n",
    "\n",
    "model = LogisticRegression()\n",
    "\n",
    "\n",
    "parameters = {\n",
    "    'C': np.logspace(-2,2,40),\n",
    "    'max_iter': [1000, 1500, 2000],\n",
    "    'random_state': [0,1,2,3,4,5,6,7,8,9,10,11]\n",
    "}\n",
    "\n",
    "clf  = BayesSearchCV(model, parameters, cv=10, return_train_score=False)\n",
    "\n",
    "clf.fit(X,y)"
   ]
  },
  {
   "cell_type": "code",
   "execution_count": null,
   "metadata": {},
   "outputs": [],
   "source": [
    "clf.best_params_"
   ]
  },
  {
   "cell_type": "code",
   "execution_count": null,
   "metadata": {},
   "outputs": [],
   "source": [
    "model = LogisticRegression(**clf.best_params_)\n",
    "model.fit(X_train, y_train)\n",
    "result = model.score(X_test, y_test)*100\n",
    "    \n",
    "print(\"{:10.2f}\".format(result))"
   ]
  },
  {
   "cell_type": "code",
   "execution_count": null,
   "metadata": {},
   "outputs": [],
   "source": [
    "# Support vector machines\n",
    "\n",
    "model = SVC()\n",
    "\n",
    "model.fit(X_train, y_train)\n",
    "\n",
    "model.score(X_test, y_test)\n"
   ]
  },
  {
   "cell_type": "code",
   "execution_count": null,
   "metadata": {},
   "outputs": [],
   "source": [
    "# Optimizing the Support Vevtor Machine model\n",
    "\n",
    "model = SVC()\n",
    "\n",
    "parameters = {\n",
    "    'C': np.logspace(-2,2,10),\n",
    "    'kernel': ['rbf','linear']\n",
    "}\n",
    "\n",
    "clf  = RandomizedSearchCV(model, parameters, cv=10, return_train_score=False)\n",
    "\n",
    "clf.fit(X,y)"
   ]
  },
  {
   "cell_type": "code",
   "execution_count": null,
   "metadata": {},
   "outputs": [],
   "source": [
    "clf.best_params_"
   ]
  },
  {
   "cell_type": "code",
   "execution_count": null,
   "metadata": {},
   "outputs": [],
   "source": [
    "model = SVC(**clf.best_params_, probability=True)\n",
    "model.fit(X_train, y_train)\n",
    "result = model.score(X_test, y_test)*100\n",
    "    \n",
    "print(\"{:10.2f}\".format(result))"
   ]
  },
  {
   "cell_type": "code",
   "execution_count": null,
   "metadata": {},
   "outputs": [],
   "source": [
    "# kNN classifier\n",
    "\n",
    "model = KNeighborsClassifier()\n",
    "\n",
    "model.fit(X_train, y_train)\n",
    "\n",
    "model.score(X_test, y_test)"
   ]
  },
  {
   "cell_type": "code",
   "execution_count": null,
   "metadata": {},
   "outputs": [],
   "source": [
    "# Optimizing the kNN classifier\n",
    "\n",
    "model = KNeighborsClassifier()\n",
    "\n",
    "parameters = {\n",
    "    'n_neighbors': list(range(1,21)),\n",
    "    'weights' : ['uniform', 'distance'],\n",
    "    'metric' : ['euclidean', 'manhattan'],\n",
    "    'leaf_size': list(range(1,10))\n",
    "}\n",
    "\n",
    "clf  = RandomizedSearchCV(model, parameters, cv=10, return_train_score=False)\n",
    "\n",
    "clf.fit(X,y)"
   ]
  },
  {
   "cell_type": "code",
   "execution_count": null,
   "metadata": {},
   "outputs": [],
   "source": [
    "clf.best_params_"
   ]
  },
  {
   "cell_type": "code",
   "execution_count": null,
   "metadata": {},
   "outputs": [],
   "source": [
    "model = KNeighborsClassifier(**clf.best_params_)\n",
    "model.fit(X_train, y_train)\n",
    "result = model.score(X_test, y_test)*100\n",
    "    \n",
    "print(\"{:10.2f}\".format(result))"
   ]
  },
  {
   "cell_type": "code",
   "execution_count": null,
   "metadata": {},
   "outputs": [],
   "source": [
    "# Gaussian Naive Bayes\n",
    "\n",
    "model = GaussianNB()\n",
    "\n",
    "model.fit(X_train, y_train)\n",
    "\n",
    "model.score(X_test, y_test)\n"
   ]
  },
  {
   "cell_type": "code",
   "execution_count": null,
   "metadata": {},
   "outputs": [],
   "source": [
    "# Optimizing the Gaussian Naive Bayes classifier\n",
    "\n",
    "model = GaussianNB()\n",
    "\n",
    "parameters = {\n",
    "    'var_smoothing': np.logspace(0,-9, num=100)\n",
    "             }\n",
    "\n",
    "clf  = GridSearchCV(model, parameters, cv=10, return_train_score=False)\n",
    "\n",
    "clf.fit(X,y)"
   ]
  },
  {
   "cell_type": "code",
   "execution_count": null,
   "metadata": {},
   "outputs": [],
   "source": [
    "clf.best_params_"
   ]
  },
  {
   "cell_type": "code",
   "execution_count": null,
   "metadata": {},
   "outputs": [],
   "source": [
    "model = GaussianNB(**clf.best_params_)\n",
    "model.fit(X_train, y_train)\n",
    "result = model.score(X_test, y_test)*100\n",
    "    \n",
    "print(\"{:10.2f}\".format(result))"
   ]
  },
  {
   "cell_type": "code",
   "execution_count": null,
   "metadata": {},
   "outputs": [],
   "source": [
    "# Linear Discriminant Analysis\n",
    "\n",
    "model = LinearDiscriminantAnalysis()\n",
    "\n",
    "model.fit(X_train, y_train)\n",
    "\n",
    "model.score(X_test, y_test)"
   ]
  },
  {
   "cell_type": "code",
   "execution_count": null,
   "metadata": {},
   "outputs": [],
   "source": [
    "# Optimizing the Linear Discriminant Analysis classifier\n",
    "\n",
    "model = LinearDiscriminantAnalysis()\n",
    "\n",
    "parameters = {\n",
    "    'solver' : ['svd', 'lsqr', 'eigen']\n",
    "}\n",
    "\n",
    "clf  = BayesSearchCV(model, parameters, cv=10, return_train_score=False)\n",
    "\n",
    "clf.fit(X,y)"
   ]
  },
  {
   "cell_type": "code",
   "execution_count": null,
   "metadata": {},
   "outputs": [],
   "source": [
    "clf.best_params_"
   ]
  },
  {
   "cell_type": "code",
   "execution_count": null,
   "metadata": {},
   "outputs": [],
   "source": [
    "model = LinearDiscriminantAnalysis(**clf.best_params_)\n",
    "model.fit(X_train, y_train)\n",
    "result = model.score(X_test, y_test)*100\n",
    "    \n",
    "print(\"{:10.2f}\".format(result))"
   ]
  },
  {
   "cell_type": "code",
   "execution_count": null,
   "metadata": {},
   "outputs": [],
   "source": [
    "#pickle.dump(model, open(\"lda_model.dat\", \"wb\"))"
   ]
  },
  {
   "cell_type": "code",
   "execution_count": null,
   "metadata": {},
   "outputs": [],
   "source": [
    "# Quadratic Discriminant Analysis\n",
    "\n",
    "model = QuadraticDiscriminantAnalysis()\n",
    "\n",
    "model.fit(X_train, y_train)\n",
    "\n",
    "model.score(X_test, y_test)"
   ]
  },
  {
   "cell_type": "code",
   "execution_count": null,
   "metadata": {},
   "outputs": [],
   "source": [
    "# Optimizing the Quadratic Discriminant Analysis classifier\n",
    "\n",
    "model = QuadraticDiscriminantAnalysis()\n",
    "\n",
    "parameters = {\n",
    "    'reg_param' : [0., 0.1, 0.2, 0.3, 0.4]\n",
    "}\n",
    "\n",
    "clf  = GridSearchCV(model, parameters, cv=10, return_train_score=False)\n",
    "\n",
    "clf.fit(X,y)"
   ]
  },
  {
   "cell_type": "code",
   "execution_count": null,
   "metadata": {},
   "outputs": [],
   "source": [
    "clf.best_params_"
   ]
  },
  {
   "cell_type": "code",
   "execution_count": null,
   "metadata": {},
   "outputs": [],
   "source": [
    "model = QuadraticDiscriminantAnalysis(**clf.best_params_)\n",
    "model.fit(X_train, y_train)\n",
    "result = model.score(X_test, y_test)*100\n",
    "    \n",
    "print(\"{:10.2f}\".format(result))"
   ]
  },
  {
   "cell_type": "code",
   "execution_count": null,
   "metadata": {},
   "outputs": [],
   "source": [
    "# Decision Tree Classifier\n",
    "\n",
    "model = DecisionTreeClassifier()\n",
    "\n",
    "model.fit(X_train, y_train)\n",
    "\n",
    "model.score(X_test, y_test)"
   ]
  },
  {
   "cell_type": "code",
   "execution_count": null,
   "metadata": {},
   "outputs": [],
   "source": [
    "# Optimizing the Decision Tree Classifier\n",
    "\n",
    "model = DecisionTreeClassifier()\n",
    "\n",
    "parameters = {\n",
    "    'criterion':['entropy','gini'],\n",
    "    'max_depth':[1,2,3,4,5,6,7,15,20,30,40,120,150]\n",
    "}\n",
    "\n",
    "clf  = GridSearchCV(model, parameters, cv=10, return_train_score=False)\n",
    "\n",
    "clf.fit(X,y)"
   ]
  },
  {
   "cell_type": "code",
   "execution_count": null,
   "metadata": {},
   "outputs": [],
   "source": [
    "clf.best_params_"
   ]
  },
  {
   "cell_type": "code",
   "execution_count": null,
   "metadata": {},
   "outputs": [],
   "source": [
    "model = DecisionTreeClassifier(**clf.best_params_)\n",
    "model.fit(X_train, y_train)\n",
    "result = model.score(X_test, y_test)*100\n",
    "    \n",
    "print(\"{:10.2f}\".format(result))"
   ]
  },
  {
   "cell_type": "code",
   "execution_count": null,
   "metadata": {},
   "outputs": [],
   "source": [
    "# Random Forest Classifier\n",
    "\n",
    "model = RandomForestClassifier()\n",
    "\n",
    "model.fit(X_train, y_train)\n",
    "\n",
    "model.score(X_test, y_test)"
   ]
  },
  {
   "cell_type": "code",
   "execution_count": null,
   "metadata": {},
   "outputs": [],
   "source": [
    "# Optimizing the Random Forest Classifier\n",
    "\n",
    "model = RandomForestClassifier()\n",
    "\n",
    "# Number of trees in random forest\n",
    "n_estimators = [int(x) for x in np.linspace(start = 200, stop = 2000, num = 10)]\n",
    "# Number of features to consider at every split\n",
    "max_features = ['auto', 'sqrt']\n",
    "# Maximum number of levels in tree\n",
    "max_depth = [int(x) for x in np.linspace(10, 110, num = 11)]\n",
    "max_depth.append(None)\n",
    "# Minimum number of samples required to split a node\n",
    "min_samples_split = [2, 5, 10]\n",
    "# Minimum number of samples required at each leaf node\n",
    "min_samples_leaf = [1, 2, 4]\n",
    "# Method of selecting samples for training each tree\n",
    "bootstrap = [True, False]\n",
    "# Create the random grid\n",
    "random_grid = {\n",
    "    'n_estimators': n_estimators,\n",
    "    'max_features': max_features,\n",
    "    'max_depth': max_depth,\n",
    "    'min_samples_split': min_samples_split,\n",
    "    'min_samples_leaf': min_samples_leaf,\n",
    "    'bootstrap': bootstrap\n",
    "}\n",
    "\n",
    "clf  = RandomizedSearchCV(model, param_distributions=random_grid, n_iter = 20, cv=10, return_train_score=False)\n",
    "\n",
    "clf.fit(X,y)"
   ]
  },
  {
   "cell_type": "code",
   "execution_count": null,
   "metadata": {},
   "outputs": [],
   "source": [
    "clf.best_params_"
   ]
  },
  {
   "cell_type": "code",
   "execution_count": null,
   "metadata": {},
   "outputs": [],
   "source": [
    "model = RandomForestClassifier(**clf.best_params_)\n",
    "model.fit(X_train, y_train)\n",
    "result = model.score(X_test, y_test)*100\n",
    "    \n",
    "print(result)"
   ]
  },
  {
   "cell_type": "code",
   "execution_count": null,
   "metadata": {},
   "outputs": [],
   "source": [
    "# XGBoost Classifier\n",
    "\n",
    "model = XGBClassifier()\n",
    "\n",
    "model.fit(X_train, y_train)\n",
    "\n",
    "model.score(X_test, y_test)"
   ]
  },
  {
   "cell_type": "code",
   "execution_count": null,
   "metadata": {},
   "outputs": [],
   "source": [
    "# Optimizing the XGBoost Classifier\n",
    "\n",
    "model = XGBClassifier()\n",
    "\n",
    "parameters = {\n",
    "    'min_child_weight': [1, 2, 3, 4, 5, 6, 25],\n",
    "    'gamma': [0.1, 0.5, 1, 1.5, 2, 5],\n",
    "    'subsample': [0.6, 0.8, 1.0],\n",
    "    'colsample_bytree': [0.6, 0.8, 1.0],\n",
    "    'max_depth': [3, 4, 5, 5, 6, 7, 8]\n",
    "}\n",
    "\n",
    "clf  = RandomizedSearchCV(model, parameters, cv=10, return_train_score=False)\n",
    "\n",
    "clf.fit(X,y)"
   ]
  },
  {
   "cell_type": "code",
   "execution_count": null,
   "metadata": {},
   "outputs": [],
   "source": [
    "clf.best_params_"
   ]
  },
  {
   "cell_type": "code",
   "execution_count": null,
   "metadata": {},
   "outputs": [],
   "source": [
    "model = XGBClassifier(**clf.best_params_)\n",
    "model.fit(X_train, y_train)\n",
    "\n",
    "print(model.score(X_test, y_test))"
   ]
  },
  {
   "cell_type": "code",
   "execution_count": null,
   "metadata": {},
   "outputs": [],
   "source": [
    "# pickle.dump(model, open(\"pima.pickle.dat\", \"wb\"))\n",
    "\n",
    "# iter_imputed_data_goldman.columns"
   ]
  },
  {
   "cell_type": "code",
   "execution_count": null,
   "metadata": {},
   "outputs": [],
   "source": [
    "# Gaussian Process Classifier\n",
    "\n",
    "model = GaussianProcessClassifier()\n",
    "\n",
    "model.fit(X_train, y_train)\n",
    "\n",
    "model.score(X_test, y_test)"
   ]
  },
  {
   "cell_type": "code",
   "execution_count": null,
   "metadata": {},
   "outputs": [],
   "source": [
    "# Optimizing the GaussianProcessClassifier\n",
    "\n",
    "model = GaussianProcessClassifier()\n",
    "\n",
    "parameters = {\n",
    "    'kernel' : [1*RBF(), 1*DotProduct(), 1*Matern(),  1*RationalQuadratic(), 1*WhiteKernel()]\n",
    "}\n",
    "\n",
    "clf  = RandomizedSearchCV(model, parameters, cv=10, return_train_score=False)\n",
    "\n",
    "clf.fit(X,y)"
   ]
  },
  {
   "cell_type": "code",
   "execution_count": null,
   "metadata": {},
   "outputs": [],
   "source": [
    "clf.best_params_"
   ]
  },
  {
   "cell_type": "code",
   "execution_count": null,
   "metadata": {},
   "outputs": [],
   "source": [
    "model = GaussianProcessClassifier(**clf.best_params_, max_iter_predict = 1000)\n",
    "\n",
    "model.fit(X_train, y_train)\n",
    "\n",
    "print(model.score(X_test, y_test))"
   ]
  },
  {
   "cell_type": "code",
   "execution_count": null,
   "metadata": {},
   "outputs": [],
   "source": [
    "# Gradient Boosting Classifier\n",
    "\n",
    "model = GradientBoostingClassifier()\n",
    "\n",
    "model.fit(X_train, y_train)\n",
    "\n",
    "model.score(X_test, y_test)"
   ]
  },
  {
   "cell_type": "code",
   "execution_count": null,
   "metadata": {},
   "outputs": [],
   "source": [
    "# Optimizing the Gradient Boosting Classifier\n",
    "\n",
    "model = GradientBoostingClassifier()\n",
    "\n",
    "parameters = {\n",
    "    \"n_estimators\":[5,50,250,500],\n",
    "    \"max_depth\":[1,3,5,7,9],\n",
    "    \"learning_rate\":[0.01,0.1,1,10,100]\n",
    "}\n",
    "\n",
    "clf  = BayesSearchCV(model, parameters, cv=10, return_train_score=False)\n",
    "\n",
    "clf.fit(X,y)"
   ]
  },
  {
   "cell_type": "code",
   "execution_count": null,
   "metadata": {},
   "outputs": [],
   "source": [
    "clf.best_params_"
   ]
  },
  {
   "cell_type": "code",
   "execution_count": null,
   "metadata": {},
   "outputs": [],
   "source": [
    "model = GradientBoostingClassifier(**clf.best_params_)\n",
    "model.fit(X_train, y_train)\n",
    "\n",
    "print(model.score(X_test, y_test))"
   ]
  },
  {
   "cell_type": "code",
   "execution_count": null,
   "metadata": {},
   "outputs": [],
   "source": [
    "# Ada Boost Classifier\n",
    "\n",
    "model = AdaBoostClassifier()\n",
    "\n",
    "model.fit(X_train, y_train)\n",
    "\n",
    "model.score(X_test, y_test)"
   ]
  },
  {
   "cell_type": "code",
   "execution_count": null,
   "metadata": {},
   "outputs": [],
   "source": [
    "# Optimizing the Gradient Boosting Classifier\n",
    "\n",
    "model = AdaBoostClassifier()\n",
    "\n",
    "parameters = {\n",
    "    \"n_estimators\":[5,50,250,500],\n",
    "    \"learning_rate\":[0.01,0.1,1,10,100]\n",
    "}\n",
    "\n",
    "clf  = RandomizedSearchCV(model, parameters, cv=10, return_train_score=False)\n",
    "\n",
    "clf.fit(X,y)"
   ]
  },
  {
   "cell_type": "code",
   "execution_count": null,
   "metadata": {},
   "outputs": [],
   "source": [
    "clf.best_params_"
   ]
  },
  {
   "cell_type": "code",
   "execution_count": null,
   "metadata": {},
   "outputs": [],
   "source": [
    "model = AdaBoostClassifier(**clf.best_params_)\n",
    "model.fit(X_train, y_train)\n",
    "\n",
    "print(model.score(X_test, y_test))"
   ]
  },
  {
   "cell_type": "code",
   "execution_count": null,
   "metadata": {},
   "outputs": [],
   "source": [
    "#pickle.dump(model, open(\"ada_boost_model.dat\", \"wb\"))\n"
   ]
  },
  {
   "cell_type": "code",
   "execution_count": null,
   "metadata": {},
   "outputs": [],
   "source": [
    "# Extra trees classifier\n",
    "\n",
    "model = ExtraTreesClassifier()\n",
    "\n",
    "model.fit(X_train, y_train)\n",
    "\n",
    "model.score(X_test, y_test)"
   ]
  },
  {
   "cell_type": "code",
   "execution_count": null,
   "metadata": {},
   "outputs": [],
   "source": [
    "# Optimizing the SGDClassifier\n",
    "\n",
    "model = ExtraTreesClassifier()\n",
    "\n",
    "parameters = {\n",
    "    'n_estimators': list(range(50,126,25)),\n",
    "    'min_samples_leaf': list(range(1,20,1)),\n",
    "    'min_samples_split': list(range(1,20,1))\n",
    "}\n",
    "\n",
    "clf  = RandomizedSearchCV(model, parameters, cv=10, return_train_score=False)\n",
    "\n",
    "clf.fit(X,y)"
   ]
  },
  {
   "cell_type": "code",
   "execution_count": null,
   "metadata": {},
   "outputs": [],
   "source": [
    "clf.best_params_"
   ]
  },
  {
   "cell_type": "code",
   "execution_count": null,
   "metadata": {},
   "outputs": [],
   "source": [
    "model = ExtraTreesClassifier(**clf.best_params_)\n",
    "model.fit(X_train, y_train)\n",
    "\n",
    "print(model.score(X_test, y_test))"
   ]
  },
  {
   "cell_type": "code",
   "execution_count": null,
   "metadata": {},
   "outputs": [],
   "source": [
    "# Light boosting regressor\n",
    "\n",
    "model = lgb.LGBMClassifier()\n",
    "\n",
    "model.fit(X_train, y_train)\n",
    "\n",
    "model.score(X_test, y_test)"
   ]
  },
  {
   "cell_type": "code",
   "execution_count": null,
   "metadata": {},
   "outputs": [],
   "source": [
    "# Optimizing the SGDClassifier\n",
    "\n",
    "model = lgb.LGBMClassifier()\n",
    "\n",
    "parameters = {\n",
    "    'num_leaves': [5, 10, 20, 31, 50, 100], \n",
    "    'min_child_samples': [20, 30, 50 , 100], \n",
    "    'min_child_weight': [1e-5, 1e-3, 1e-2, 1e-1, 1],\n",
    "    'reg_alpha': [0, 1e-1, 1],\n",
    "    'reg_lambda': [0, 1e-1, 1, 5, 10]\n",
    "}\n",
    "\n",
    "clf  = RandomizedSearchCV(model, parameters, cv=10, return_train_score=False)\n",
    "\n",
    "clf.fit(X,y)"
   ]
  },
  {
   "cell_type": "code",
   "execution_count": null,
   "metadata": {},
   "outputs": [],
   "source": [
    "clf.best_params_"
   ]
  },
  {
   "cell_type": "code",
   "execution_count": null,
   "metadata": {},
   "outputs": [],
   "source": [
    "model = lgb.LGBMClassifier(**clf.best_params_)\n",
    "model.fit(X_train, y_train)\n",
    "\n",
    "print(model.score(X_test, y_test))"
   ]
  },
  {
   "cell_type": "code",
   "execution_count": null,
   "metadata": {},
   "outputs": [],
   "source": [
    "#pickle.dump(model, open(\"lgb_model.dat\", \"wb\"))\n"
   ]
  },
  {
   "cell_type": "code",
   "execution_count": null,
   "metadata": {},
   "outputs": [],
   "source": []
  }
 ],
 "metadata": {
  "kernelspec": {
   "display_name": "Python 3 (ipykernel)",
   "language": "python",
   "name": "python3"
  },
  "language_info": {
   "codemirror_mode": {
    "name": "ipython",
    "version": 3
   },
   "file_extension": ".py",
   "mimetype": "text/x-python",
   "name": "python",
   "nbconvert_exporter": "python",
   "pygments_lexer": "ipython3",
   "version": "3.9.7"
  }
 },
 "nbformat": 4,
 "nbformat_minor": 4
}
